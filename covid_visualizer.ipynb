{
  "nbformat": 4,
  "nbformat_minor": 0,
  "metadata": {
    "colab": {
      "name": "covid_visualizer.ipynb",
      "provenance": [],
      "collapsed_sections": [],
      "include_colab_link": true
    },
    "kernelspec": {
      "name": "python3",
      "display_name": "Python 3"
    },
    "language_info": {
      "name": "python"
    }
  },
  "cells": [
    {
      "cell_type": "markdown",
      "metadata": {
        "id": "view-in-github",
        "colab_type": "text"
      },
      "source": [
        "<a href=\"https://colab.research.google.com/github/AshishK0171/internship_covid/blob/main/covid_visualizer.ipynb\" target=\"_parent\"><img src=\"https://colab.research.google.com/assets/colab-badge.svg\" alt=\"Open In Colab\"/></a>"
      ]
    },
    {
      "cell_type": "markdown",
      "metadata": {
        "id": "jaoVQrHLbfzA"
      },
      "source": [
        "\n",
        " required modules\n",
        "\n",
        "\n"
      ]
    },
    {
      "cell_type": "code",
      "metadata": {
        "id": "rrZUQxm9JTOb"
      },
      "source": [
        "import numpy as np\n",
        "import pandas as pd\n",
        "import seaborn as sb"
      ],
      "execution_count": 3,
      "outputs": []
    },
    {
      "cell_type": "code",
      "metadata": {
        "id": "9ziL1zYKmYT8"
      },
      "source": [
        "from matplotlib import pyplot as plt"
      ],
      "execution_count": 19,
      "outputs": []
    },
    {
      "cell_type": "markdown",
      "metadata": {
        "id": "HVCJV3Ribv3f"
      },
      "source": [
        "getting the data from the link"
      ]
    },
    {
      "cell_type": "code",
      "metadata": {
        "id": "YD2MM1zdPXGg"
      },
      "source": [
        "url='https://raw.githubusercontent.com/owid/covid-19-data/master/public/data/vaccinations/vaccinations.csv'\n",
        "vac_data=pd.read_csv(url,index_col=\"location\")"
      ],
      "execution_count": 50,
      "outputs": []
    },
    {
      "cell_type": "markdown",
      "metadata": {
        "id": "5gXvwmeGb279"
      },
      "source": [
        "getting only the required data from the whole"
      ]
    },
    {
      "cell_type": "code",
      "metadata": {
        "id": "BXWN4W8tPcTz"
      },
      "source": [
        "ind_vac=vac_data.loc[\"India\"]"
      ],
      "execution_count": 51,
      "outputs": []
    },
    {
      "cell_type": "markdown",
      "metadata": {
        "id": "wNvL1fo7bXCX"
      },
      "source": [
        "contents of the data set-INDIA"
      ]
    },
    {
      "cell_type": "code",
      "metadata": {
        "colab": {
          "base_uri": "https://localhost:8080/",
          "height": 648
        },
        "id": "um12aI6mSKEF",
        "outputId": "46b30636-cc83-4263-9220-2942abd90a50"
      },
      "source": [
        "ind_vac \n"
      ],
      "execution_count": 52,
      "outputs": [
        {
          "output_type": "execute_result",
          "data": {
            "text/html": [
              "<div>\n",
              "<style scoped>\n",
              "    .dataframe tbody tr th:only-of-type {\n",
              "        vertical-align: middle;\n",
              "    }\n",
              "\n",
              "    .dataframe tbody tr th {\n",
              "        vertical-align: top;\n",
              "    }\n",
              "\n",
              "    .dataframe thead th {\n",
              "        text-align: right;\n",
              "    }\n",
              "</style>\n",
              "<table border=\"1\" class=\"dataframe\">\n",
              "  <thead>\n",
              "    <tr style=\"text-align: right;\">\n",
              "      <th></th>\n",
              "      <th>iso_code</th>\n",
              "      <th>date</th>\n",
              "      <th>total_vaccinations</th>\n",
              "      <th>people_vaccinated</th>\n",
              "      <th>people_fully_vaccinated</th>\n",
              "      <th>daily_vaccinations_raw</th>\n",
              "      <th>daily_vaccinations</th>\n",
              "      <th>total_vaccinations_per_hundred</th>\n",
              "      <th>people_vaccinated_per_hundred</th>\n",
              "      <th>people_fully_vaccinated_per_hundred</th>\n",
              "      <th>daily_vaccinations_per_million</th>\n",
              "    </tr>\n",
              "    <tr>\n",
              "      <th>location</th>\n",
              "      <th></th>\n",
              "      <th></th>\n",
              "      <th></th>\n",
              "      <th></th>\n",
              "      <th></th>\n",
              "      <th></th>\n",
              "      <th></th>\n",
              "      <th></th>\n",
              "      <th></th>\n",
              "      <th></th>\n",
              "      <th></th>\n",
              "    </tr>\n",
              "  </thead>\n",
              "  <tbody>\n",
              "    <tr>\n",
              "      <th>India</th>\n",
              "      <td>IND</td>\n",
              "      <td>2021-01-15</td>\n",
              "      <td>0.0</td>\n",
              "      <td>0.0</td>\n",
              "      <td>NaN</td>\n",
              "      <td>NaN</td>\n",
              "      <td>NaN</td>\n",
              "      <td>0.00</td>\n",
              "      <td>0.00</td>\n",
              "      <td>NaN</td>\n",
              "      <td>NaN</td>\n",
              "    </tr>\n",
              "    <tr>\n",
              "      <th>India</th>\n",
              "      <td>IND</td>\n",
              "      <td>2021-01-16</td>\n",
              "      <td>191181.0</td>\n",
              "      <td>191181.0</td>\n",
              "      <td>NaN</td>\n",
              "      <td>191181.0</td>\n",
              "      <td>191181.0</td>\n",
              "      <td>0.01</td>\n",
              "      <td>0.01</td>\n",
              "      <td>NaN</td>\n",
              "      <td>139.0</td>\n",
              "    </tr>\n",
              "    <tr>\n",
              "      <th>India</th>\n",
              "      <td>IND</td>\n",
              "      <td>2021-01-17</td>\n",
              "      <td>224301.0</td>\n",
              "      <td>224301.0</td>\n",
              "      <td>NaN</td>\n",
              "      <td>33120.0</td>\n",
              "      <td>112150.0</td>\n",
              "      <td>0.02</td>\n",
              "      <td>0.02</td>\n",
              "      <td>NaN</td>\n",
              "      <td>81.0</td>\n",
              "    </tr>\n",
              "    <tr>\n",
              "      <th>India</th>\n",
              "      <td>IND</td>\n",
              "      <td>2021-01-18</td>\n",
              "      <td>454049.0</td>\n",
              "      <td>454049.0</td>\n",
              "      <td>NaN</td>\n",
              "      <td>229748.0</td>\n",
              "      <td>151350.0</td>\n",
              "      <td>0.03</td>\n",
              "      <td>0.03</td>\n",
              "      <td>NaN</td>\n",
              "      <td>110.0</td>\n",
              "    </tr>\n",
              "    <tr>\n",
              "      <th>India</th>\n",
              "      <td>IND</td>\n",
              "      <td>2021-01-19</td>\n",
              "      <td>674835.0</td>\n",
              "      <td>674835.0</td>\n",
              "      <td>NaN</td>\n",
              "      <td>220786.0</td>\n",
              "      <td>168709.0</td>\n",
              "      <td>0.05</td>\n",
              "      <td>0.05</td>\n",
              "      <td>NaN</td>\n",
              "      <td>122.0</td>\n",
              "    </tr>\n",
              "    <tr>\n",
              "      <th>...</th>\n",
              "      <td>...</td>\n",
              "      <td>...</td>\n",
              "      <td>...</td>\n",
              "      <td>...</td>\n",
              "      <td>...</td>\n",
              "      <td>...</td>\n",
              "      <td>...</td>\n",
              "      <td>...</td>\n",
              "      <td>...</td>\n",
              "      <td>...</td>\n",
              "      <td>...</td>\n",
              "    </tr>\n",
              "    <tr>\n",
              "      <th>India</th>\n",
              "      <td>IND</td>\n",
              "      <td>2021-06-07</td>\n",
              "      <td>230490652.0</td>\n",
              "      <td>185501579.0</td>\n",
              "      <td>44989073.0</td>\n",
              "      <td>2449607.0</td>\n",
              "      <td>2862965.0</td>\n",
              "      <td>16.70</td>\n",
              "      <td>13.44</td>\n",
              "      <td>3.26</td>\n",
              "      <td>2075.0</td>\n",
              "    </tr>\n",
              "    <tr>\n",
              "      <th>India</th>\n",
              "      <td>IND</td>\n",
              "      <td>2021-06-08</td>\n",
              "      <td>233680929.0</td>\n",
              "      <td>188363894.0</td>\n",
              "      <td>45317035.0</td>\n",
              "      <td>3190277.0</td>\n",
              "      <td>2935027.0</td>\n",
              "      <td>16.93</td>\n",
              "      <td>13.65</td>\n",
              "      <td>3.28</td>\n",
              "      <td>2127.0</td>\n",
              "    </tr>\n",
              "    <tr>\n",
              "      <th>India</th>\n",
              "      <td>IND</td>\n",
              "      <td>2021-06-09</td>\n",
              "      <td>236856505.0</td>\n",
              "      <td>191222380.0</td>\n",
              "      <td>45634125.0</td>\n",
              "      <td>3175576.0</td>\n",
              "      <td>3025477.0</td>\n",
              "      <td>17.16</td>\n",
              "      <td>13.86</td>\n",
              "      <td>3.31</td>\n",
              "      <td>2192.0</td>\n",
              "    </tr>\n",
              "    <tr>\n",
              "      <th>India</th>\n",
              "      <td>IND</td>\n",
              "      <td>2021-06-10</td>\n",
              "      <td>240281903.0</td>\n",
              "      <td>194325996.0</td>\n",
              "      <td>45955907.0</td>\n",
              "      <td>3425398.0</td>\n",
              "      <td>3133931.0</td>\n",
              "      <td>17.41</td>\n",
              "      <td>14.08</td>\n",
              "      <td>3.33</td>\n",
              "      <td>2271.0</td>\n",
              "    </tr>\n",
              "    <tr>\n",
              "      <th>India</th>\n",
              "      <td>IND</td>\n",
              "      <td>2021-06-11</td>\n",
              "      <td>243703242.0</td>\n",
              "      <td>197415653.0</td>\n",
              "      <td>46287589.0</td>\n",
              "      <td>3421339.0</td>\n",
              "      <td>2870782.0</td>\n",
              "      <td>17.66</td>\n",
              "      <td>14.31</td>\n",
              "      <td>3.35</td>\n",
              "      <td>2080.0</td>\n",
              "    </tr>\n",
              "  </tbody>\n",
              "</table>\n",
              "<p>148 rows × 11 columns</p>\n",
              "</div>"
            ],
            "text/plain": [
              "         iso_code  ... daily_vaccinations_per_million\n",
              "location           ...                               \n",
              "India         IND  ...                            NaN\n",
              "India         IND  ...                          139.0\n",
              "India         IND  ...                           81.0\n",
              "India         IND  ...                          110.0\n",
              "India         IND  ...                          122.0\n",
              "...           ...  ...                            ...\n",
              "India         IND  ...                         2075.0\n",
              "India         IND  ...                         2127.0\n",
              "India         IND  ...                         2192.0\n",
              "India         IND  ...                         2271.0\n",
              "India         IND  ...                         2080.0\n",
              "\n",
              "[148 rows x 11 columns]"
            ]
          },
          "metadata": {
            "tags": []
          },
          "execution_count": 52
        }
      ]
    },
    {
      "cell_type": "code",
      "metadata": {
        "id": "XZVZbfN-pDJG"
      },
      "source": [
        "ind_vac.isnull().sum()\n"
      ],
      "execution_count": null,
      "outputs": []
    },
    {
      "cell_type": "markdown",
      "metadata": {
        "id": "oplaFO0gqgUr"
      },
      "source": [
        "\n",
        "\n",
        "```\n",
        "iso_code                                0\n",
        "date                                    0\n",
        "total_vaccinations                      5\n",
        "people_vaccinated                       5\n",
        "people_fully_vaccinated                34\n",
        "daily_vaccinations_raw                 10\n",
        "daily_vaccinations                      1\n",
        "total_vaccinations_per_hundred          5\n",
        "people_vaccinated_per_hundred           5\n",
        "people_fully_vaccinated_per_hundred    34\n",
        "daily_vaccinations_per_million          1\n",
        "dtype: int64\n",
        "```\n",
        "\n"
      ]
    },
    {
      "cell_type": "markdown",
      "metadata": {
        "id": "V67ubNzh6u11"
      },
      "source": [
        "**DATA VIZUALIZATION**"
      ]
    },
    {
      "cell_type": "code",
      "metadata": {
        "colab": {
          "base_uri": "https://localhost:8080/",
          "height": 294
        },
        "id": "ZGi_AQQhs8SO",
        "outputId": "de03b4f2-9180-4ca3-ba17-f0d5aae51d9c"
      },
      "source": [
        "ind_vac.dropna(subset=['total_vaccinations','people_vaccinated'],how='any')\n",
        "plt.plot(figsize=(10,12))\n",
        "plt.title(\"vaccinated vs total vaccination stock\")\n",
        "plt.xlabel(\"Days\")\n",
        "plt.ylabel(\"units\")\n",
        "\n",
        "\n",
        "plt.plot(ind_vac.date,ind_vac.total_vaccinations)\n",
        "plt.plot(ind_vac.date,ind_vac.people_vaccinated)\n",
        "plt.legend(['Total vaccination',\"People vaccinated\"])\n",
        "plt.show()"
      ],
      "execution_count": 64,
      "outputs": [
        {
          "output_type": "display_data",
          "data": {
            "image/png": "[encoded data removed]",
            "text/plain": [
              "<Figure size 432x288 with 1 Axes>"
            ]
          },
          "metadata": {
            "tags": [],
            "needs_background": "light"
          }
        }
      ]
    },
    {
      "cell_type": "code",
      "metadata": {
        "colab": {
          "base_uri": "https://localhost:8080/",
          "height": 294
        },
        "id": "9fA41-eg4J9O",
        "outputId": "e01f3e36-0c85-41ae-95d2-ad09fbb120af"
      },
      "source": [
        "ind_vac.dropna(subset=['total_vaccinations','daily_vaccinations_raw','daily_vaccinations'],how='any')\n",
        "\n",
        "plt.title(\"vaccination to daily use\")\n",
        "plt.xlabel(\"Days\")\n",
        "plt.ylabel(\"units\")\n",
        "\n",
        "\n",
        "# plt.plot(ind_vac.date,ind_vac.total_vaccinations)\n",
        "plt.plot(ind_vac.date,ind_vac.daily_vaccinations_raw)\n",
        "plt.plot(ind_vac.date,ind_vac.daily_vaccinations)\n",
        "plt.legend([\"daily vaccination raw\",'daily vaccination'])\n",
        "plt.show()"
      ],
      "execution_count": 68,
      "outputs": [
        {
          "output_type": "display_data",
          "data": {
            "image/png": "[encoded data removed]",
            "text/plain": [
              "<Figure size 432x288 with 1 Axes>"
            ]
          },
          "metadata": {
            "tags": [],
            "needs_background": "light"
          }
        }
      ]
    },
    {
      "cell_type": "code",
      "metadata": {
        "colab": {
          "base_uri": "https://localhost:8080/",
          "height": 386
        },
        "id": "CrvfShJL7iC2",
        "outputId": "9a31eab7-bcbe-4280-c290-24d055d88903"
      },
      "source": [
        "# sb.displot( x=\"people_fully_vaccinated\",data=copy_data,kde=True)"
      ],
      "execution_count": 105,
      "outputs": [
        {
          "output_type": "execute_result",
          "data": {
            "text/plain": [
              "<seaborn.axisgrid.FacetGrid at 0x7f7989f11750>"
            ]
          },
          "metadata": {
            "tags": []
          },
          "execution_count": 105
        },
        {
          "output_type": "display_data",
          "data": {
            "image/png": "[encoded data removed]",
            "text/plain": [
              "<Figure size 360x360 with 1 Axes>"
            ]
          },
          "metadata": {
            "tags": [],
            "needs_background": "light"
          }
        }
      ]
    },
    {
      "cell_type": "code",
      "metadata": {
        "id": "Cjy0T2jwcObv"
      },
      "source": [
        "# ax=sb.lineplot(x='date',y='total_vaccinations',data=ind_vac)"
      ],
      "execution_count": null,
      "outputs": []
    },
    {
      "cell_type": "code",
      "metadata": {
        "id": "9jA-vbmSWRbR"
      },
      "source": [
        "copy_data=ind_vac"
      ],
      "execution_count": 90,
      "outputs": []
    },
    {
      "cell_type": "code",
      "metadata": {
        "colab": {
          "base_uri": "https://localhost:8080/"
        },
        "id": "vAXC_JQLgeiG",
        "outputId": "07afcb97-2333-4e2e-8d51-c21c41102d64"
      },
      "source": [
        "copy_data.fillna(0,inplace=True)"
      ],
      "execution_count": 91,
      "outputs": [
        {
          "output_type": "stream",
          "text": [
            "/usr/local/lib/python3.7/dist-packages/pandas/core/frame.py:4327: SettingWithCopyWarning: \n",
            "A value is trying to be set on a copy of a slice from a DataFrame\n",
            "\n",
            "See the caveats in the documentation: https://pandas.pydata.org/pandas-docs/stable/user_guide/indexing.html#returning-a-view-versus-a-copy\n",
            "  downcast=downcast,\n"
          ],
          "name": "stderr"
        }
      ]
    },
    {
      "cell_type": "markdown",
      "metadata": {
        "id": "cbTYexjwrESJ"
      },
      "source": [
        "\n",
        "\n",
        "```\n",
        "iso_code                               0\n",
        "date                                   0\n",
        "total_vaccinations                     0\n",
        "people_vaccinated                      0\n",
        "people_fully_vaccinated                0\n",
        "daily_vaccinations_raw                 0\n",
        "daily_vaccinations                     0\n",
        "total_vaccinations_per_hundred         0\n",
        "people_vaccinated_per_hundred          0\n",
        "people_fully_vaccinated_per_hundred    0\n",
        "daily_vaccinations_per_million         0\n",
        "dtype: int64\n",
        "```\n",
        "\n"
      ]
    },
    {
      "cell_type": "code",
      "metadata": {
        "id": "D3y_U9wtoM4n"
      },
      "source": [
        "copy_data.isnull().sum()\n"
      ],
      "execution_count": null,
      "outputs": []
    },
    {
      "cell_type": "code",
      "metadata": {
        "colab": {
          "base_uri": "https://localhost:8080/",
          "height": 352
        },
        "id": "cmcANRsXVEio",
        "outputId": "d8090897-c506-48de-86dd-f923af182bef"
      },
      "source": [
        "copy_data.corr()"
      ],
      "execution_count": 75,
      "outputs": [
        {
          "output_type": "execute_result",
          "data": {
            "text/html": [
              "<div>\n",
              "<style scoped>\n",
              "    .dataframe tbody tr th:only-of-type {\n",
              "        vertical-align: middle;\n",
              "    }\n",
              "\n",
              "    .dataframe tbody tr th {\n",
              "        vertical-align: top;\n",
              "    }\n",
              "\n",
              "    .dataframe thead th {\n",
              "        text-align: right;\n",
              "    }\n",
              "</style>\n",
              "<table border=\"1\" class=\"dataframe\">\n",
              "  <thead>\n",
              "    <tr style=\"text-align: right;\">\n",
              "      <th></th>\n",
              "      <th>total_vaccinations</th>\n",
              "      <th>people_vaccinated</th>\n",
              "      <th>people_fully_vaccinated</th>\n",
              "      <th>daily_vaccinations_raw</th>\n",
              "      <th>daily_vaccinations</th>\n",
              "      <th>total_vaccinations_per_hundred</th>\n",
              "      <th>people_vaccinated_per_hundred</th>\n",
              "      <th>people_fully_vaccinated_per_hundred</th>\n",
              "      <th>daily_vaccinations_per_million</th>\n",
              "    </tr>\n",
              "  </thead>\n",
              "  <tbody>\n",
              "    <tr>\n",
              "      <th>total_vaccinations</th>\n",
              "      <td>1.000000</td>\n",
              "      <td>0.998883</td>\n",
              "      <td>0.983239</td>\n",
              "      <td>0.590951</td>\n",
              "      <td>0.684832</td>\n",
              "      <td>1.000000</td>\n",
              "      <td>0.998879</td>\n",
              "      <td>0.983296</td>\n",
              "      <td>0.684864</td>\n",
              "    </tr>\n",
              "    <tr>\n",
              "      <th>people_vaccinated</th>\n",
              "      <td>0.998883</td>\n",
              "      <td>1.000000</td>\n",
              "      <td>0.973525</td>\n",
              "      <td>0.609953</td>\n",
              "      <td>0.708847</td>\n",
              "      <td>0.998881</td>\n",
              "      <td>1.000000</td>\n",
              "      <td>0.973596</td>\n",
              "      <td>0.708877</td>\n",
              "    </tr>\n",
              "    <tr>\n",
              "      <th>people_fully_vaccinated</th>\n",
              "      <td>0.983239</td>\n",
              "      <td>0.973525</td>\n",
              "      <td>1.000000</td>\n",
              "      <td>0.505194</td>\n",
              "      <td>0.577757</td>\n",
              "      <td>0.983246</td>\n",
              "      <td>0.973510</td>\n",
              "      <td>0.999998</td>\n",
              "      <td>0.577798</td>\n",
              "    </tr>\n",
              "    <tr>\n",
              "      <th>daily_vaccinations_raw</th>\n",
              "      <td>0.590951</td>\n",
              "      <td>0.609953</td>\n",
              "      <td>0.505194</td>\n",
              "      <td>1.000000</td>\n",
              "      <td>0.795031</td>\n",
              "      <td>0.590894</td>\n",
              "      <td>0.610022</td>\n",
              "      <td>0.505397</td>\n",
              "      <td>0.795002</td>\n",
              "    </tr>\n",
              "    <tr>\n",
              "      <th>daily_vaccinations</th>\n",
              "      <td>0.684832</td>\n",
              "      <td>0.708847</td>\n",
              "      <td>0.577757</td>\n",
              "      <td>0.795031</td>\n",
              "      <td>1.000000</td>\n",
              "      <td>0.684819</td>\n",
              "      <td>0.708876</td>\n",
              "      <td>0.578020</td>\n",
              "      <td>1.000000</td>\n",
              "    </tr>\n",
              "    <tr>\n",
              "      <th>total_vaccinations_per_hundred</th>\n",
              "      <td>1.000000</td>\n",
              "      <td>0.998881</td>\n",
              "      <td>0.983246</td>\n",
              "      <td>0.590894</td>\n",
              "      <td>0.684819</td>\n",
              "      <td>1.000000</td>\n",
              "      <td>0.998878</td>\n",
              "      <td>0.983303</td>\n",
              "      <td>0.684852</td>\n",
              "    </tr>\n",
              "    <tr>\n",
              "      <th>people_vaccinated_per_hundred</th>\n",
              "      <td>0.998879</td>\n",
              "      <td>1.000000</td>\n",
              "      <td>0.973510</td>\n",
              "      <td>0.610022</td>\n",
              "      <td>0.708876</td>\n",
              "      <td>0.998878</td>\n",
              "      <td>1.000000</td>\n",
              "      <td>0.973581</td>\n",
              "      <td>0.708906</td>\n",
              "    </tr>\n",
              "    <tr>\n",
              "      <th>people_fully_vaccinated_per_hundred</th>\n",
              "      <td>0.983296</td>\n",
              "      <td>0.973596</td>\n",
              "      <td>0.999998</td>\n",
              "      <td>0.505397</td>\n",
              "      <td>0.578020</td>\n",
              "      <td>0.983303</td>\n",
              "      <td>0.973581</td>\n",
              "      <td>1.000000</td>\n",
              "      <td>0.578061</td>\n",
              "    </tr>\n",
              "    <tr>\n",
              "      <th>daily_vaccinations_per_million</th>\n",
              "      <td>0.684864</td>\n",
              "      <td>0.708877</td>\n",
              "      <td>0.577798</td>\n",
              "      <td>0.795002</td>\n",
              "      <td>1.000000</td>\n",
              "      <td>0.684852</td>\n",
              "      <td>0.708906</td>\n",
              "      <td>0.578061</td>\n",
              "      <td>1.000000</td>\n",
              "    </tr>\n",
              "  </tbody>\n",
              "</table>\n",
              "</div>"
            ],
            "text/plain": [
              "                                     total_vaccinations  ...  daily_vaccinations_per_million\n",
              "total_vaccinations                             1.000000  ...                        0.684864\n",
              "people_vaccinated                              0.998883  ...                        0.708877\n",
              "people_fully_vaccinated                        0.983239  ...                        0.577798\n",
              "daily_vaccinations_raw                         0.590951  ...                        0.795002\n",
              "daily_vaccinations                             0.684832  ...                        1.000000\n",
              "total_vaccinations_per_hundred                 1.000000  ...                        0.684852\n",
              "people_vaccinated_per_hundred                  0.998879  ...                        0.708906\n",
              "people_fully_vaccinated_per_hundred            0.983296  ...                        0.578061\n",
              "daily_vaccinations_per_million                 0.684864  ...                        1.000000\n",
              "\n",
              "[9 rows x 9 columns]"
            ]
          },
          "metadata": {
            "tags": []
          },
          "execution_count": 75
        }
      ]
    },
    {
      "cell_type": "code",
      "metadata": {
        "id": "9VvXgbAIV2Kd"
      },
      "source": [
        "sb.heatmap(copy_data.corr())"
      ],
      "execution_count": null,
      "outputs": []
    },
    {
      "cell_type": "code",
      "metadata": {
        "id": "b3tFGl7OTCbE"
      },
      "source": [
        "X=copy_data[['total_vaccinations','people_vaccinated','total_vaccinations_per_hundred','people_vaccinated_per_hundred']]\n",
        "Y=copy_data[['people_fully_vaccinated']]\n",
        "from sklearn.model_selection import train_test_split\n",
        "X_train,X_test,Y_train,Y_test=train_test_split(X,Y,test_size=0.2,random_state=25000)\n"
      ],
      "execution_count": 77,
      "outputs": []
    },
    {
      "cell_type": "code",
      "metadata": {
        "colab": {
          "base_uri": "https://localhost:8080/"
        },
        "id": "wLiRTtuEUzFy",
        "outputId": "3f6a19da-dd7e-4eb5-cc26-b05cb177c4fc"
      },
      "source": [
        "from sklearn.linear_model import LinearRegression\n",
        "lin_r=LinearRegression()\n",
        "lin_r.fit(X_train,Y_train)\n",
        "\n",
        "lin_r_pred=lin_r.predict(X_test)\n",
        "print(lin_r_pred)"
      ],
      "execution_count": 79,
      "outputs": [
        {
          "output_type": "stream",
          "text": [
            "[[-4.84814920e-08]\n",
            " [ 1.48742540e+07]\n",
            " [ 4.59559070e+07]\n",
            " [ 2.45152130e+07]\n",
            " [-4.46864873e-08]\n",
            " [ 6.54246800e+06]\n",
            " [ 3.28951730e+07]\n",
            " [-3.37422338e-08]\n",
            " [-2.66941025e-08]\n",
            " [ 2.16339000e+05]\n",
            " [-3.91155481e-08]\n",
            " [ 3.97849510e+07]\n",
            " [-3.91155481e-08]\n",
            " [ 4.24195600e+07]\n",
            " [ 9.06531800e+06]\n",
            " [-3.06051659e-08]\n",
            " [ 9.60642000e+05]\n",
            " [ 7.47865400e+06]\n",
            " [ 4.12622330e+07]\n",
            " [ 7.86344100e+06]\n",
            " [ 7.66800000e+03]\n",
            " [ 5.14295300e+06]\n",
            " [ 8.87020100e+06]\n",
            " [ 4.38113420e+07]\n",
            " [ 2.59779900e+06]\n",
            " [ 2.91228330e+07]\n",
            " [ 8.82834600e+06]\n",
            " [-4.53308605e-08]\n",
            " [-3.05284902e-08]\n",
            " [ 1.38776640e+07]]\n"
          ],
          "name": "stdout"
        }
      ]
    },
    {
      "cell_type": "code",
      "metadata": {
        "id": "_qrnhBrKWQXo"
      },
      "source": [
        "lin_r_a=lin_r.score(X_test,Y_test)\n",
        "print(lin_r_a)"
      ],
      "execution_count": null,
      "outputs": []
    },
    {
      "cell_type": "code",
      "metadata": {
        "id": "r69BGoXD6liR"
      },
      "source": [
        ""
      ],
      "execution_count": null,
      "outputs": []
    }
  ]
}